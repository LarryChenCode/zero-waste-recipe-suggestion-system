{
 "cells": [
  {
   "cell_type": "code",
   "execution_count": 1,
   "id": "de553b28",
   "metadata": {},
   "outputs": [
    {
     "name": "stdout",
     "output_type": "stream",
     "text": [
      "Requirement already satisfied: openai==0.28 in c:\\users\\ldscs\\anaconda3\\envs\\zero-waste-recipe\\lib\\site-packages (0.28.0)\n",
      "Requirement already satisfied: requests>=2.20 in c:\\users\\ldscs\\anaconda3\\envs\\zero-waste-recipe\\lib\\site-packages (from openai==0.28) (2.31.0)\n",
      "Requirement already satisfied: tqdm in c:\\users\\ldscs\\anaconda3\\envs\\zero-waste-recipe\\lib\\site-packages (from openai==0.28) (4.65.0)\n",
      "Requirement already satisfied: aiohttp in c:\\users\\ldscs\\anaconda3\\envs\\zero-waste-recipe\\lib\\site-packages (from openai==0.28) (3.9.5)\n",
      "Requirement already satisfied: charset-normalizer<4,>=2 in c:\\users\\ldscs\\anaconda3\\envs\\zero-waste-recipe\\lib\\site-packages (from requests>=2.20->openai==0.28) (2.0.4)\n",
      "Requirement already satisfied: idna<4,>=2.5 in c:\\users\\ldscs\\anaconda3\\envs\\zero-waste-recipe\\lib\\site-packages (from requests>=2.20->openai==0.28) (3.4)\n",
      "Requirement already satisfied: urllib3<3,>=1.21.1 in c:\\users\\ldscs\\anaconda3\\envs\\zero-waste-recipe\\lib\\site-packages (from requests>=2.20->openai==0.28) (1.26.18)\n",
      "Requirement already satisfied: certifi>=2017.4.17 in c:\\users\\ldscs\\anaconda3\\envs\\zero-waste-recipe\\lib\\site-packages (from requests>=2.20->openai==0.28) (2023.11.17)\n",
      "Requirement already satisfied: aiosignal>=1.1.2 in c:\\users\\ldscs\\anaconda3\\envs\\zero-waste-recipe\\lib\\site-packages (from aiohttp->openai==0.28) (1.3.1)\n",
      "Requirement already satisfied: attrs>=17.3.0 in c:\\users\\ldscs\\anaconda3\\envs\\zero-waste-recipe\\lib\\site-packages (from aiohttp->openai==0.28) (23.1.0)\n",
      "Requirement already satisfied: frozenlist>=1.1.1 in c:\\users\\ldscs\\anaconda3\\envs\\zero-waste-recipe\\lib\\site-packages (from aiohttp->openai==0.28) (1.4.1)\n",
      "Requirement already satisfied: multidict<7.0,>=4.5 in c:\\users\\ldscs\\anaconda3\\envs\\zero-waste-recipe\\lib\\site-packages (from aiohttp->openai==0.28) (6.0.5)\n",
      "Requirement already satisfied: yarl<2.0,>=1.0 in c:\\users\\ldscs\\anaconda3\\envs\\zero-waste-recipe\\lib\\site-packages (from aiohttp->openai==0.28) (1.9.4)\n",
      "Requirement already satisfied: colorama in c:\\users\\ldscs\\anaconda3\\envs\\zero-waste-recipe\\lib\\site-packages (from tqdm->openai==0.28) (0.4.6)\n",
      "Note: you may need to restart the kernel to use updated packages.\n"
     ]
    }
   ],
   "source": [
    "pip install openai==0.28"
   ]
  },
  {
   "cell_type": "code",
   "execution_count": 2,
   "id": "60becb0e",
   "metadata": {},
   "outputs": [],
   "source": [
    "import openai\n",
    "import json\n",
    "import pandas as pd\n",
    "from config import API_KEY  # Import the API key from the config file\n",
    "\n",
    "# Set the OpenAI API key\n",
    "openai.api_key = API_KEY"
   ]
  },
  {
   "cell_type": "code",
   "execution_count": 3,
   "id": "ec3e1680",
   "metadata": {},
   "outputs": [],
   "source": [
    "def get_response(prompt, model=\"gpt-3.5-turbo\", max_tokens=150):\n",
    "    try:\n",
    "        response = openai.ChatCompletion.create(\n",
    "            model=model,\n",
    "            messages=[{\"role\": \"user\", \"content\": prompt}],\n",
    "            max_tokens=max_tokens,\n",
    "            temperature=0.7,\n",
    "        )\n",
    "        cleaned_response = response.choices[0].message['content'].strip()\n",
    "        # Remove unwanted prefixes and ensure only the ingredient name is returned\n",
    "        if \"Output: \" in cleaned_response:\n",
    "            cleaned_response = cleaned_response.split(\"Output: \")[-1].strip().strip('\"')\n",
    "        return cleaned_response\n",
    "    except Exception as e:\n",
    "        return f\"An error occurred: {e}\"\n",
    "\n",
    "def simplify_ingredient(ingredient):\n",
    "    prompt_base = \"\"\"\n",
    "You are an ingredient identifier, please do the following tasks:\n",
    "\n",
    "Task: Simplify the given ingredient names into single keywords by ignoring quantities, units, and descriptive words. Extract only the main ingredient names.\n",
    "\n",
    "Examples:\n",
    "\n",
    "1. \"(10 oz.) tomato sauce\" simplifies to \"tomato sauce\"\n",
    "2. \"(10 oz.) frozen chopped spinach, thawed and squeezed dry\" simplifies to \"spinach\"\n",
    "3. \"(14 oz.) sweetened condensed milk\" simplifies to \"milk\"\n",
    "4. \"(2 cups) shredded cheddar cheese\" simplifies to \"cheddar cheese\"\n",
    "5. \"(1/4 cup) finely chopped onions\" simplifies to \"onions\"\n",
    "6. \"(3 tbsp.) olive oil\" simplifies to \"olive oil\"\n",
    "7. \"(1 lb.) ground beef\" is \"ground beef\"\n",
    "8. \"(1 lb.) grilled chicken breasts\" simplifies to \"chicken breasts\"\n",
    "9. \"(1 lb.) chicken livers\" simplifies to \"chicken livers\"\n",
    "10. \"zatarain\\u2019s jambalaya mix\" simplifies to \"jambalaya mix\"\n",
    "\n",
    "Instructions:\n",
    "1. Read the provided ingredient name.\n",
    "2. Remove any quantity, unit, and unnecessary descriptive words.\n",
    "3. Extract and provide the main ingredient name, ensuring to retain the meat type and specific part descriptions.\n",
    "\n",
    "Input and Output Format:\n",
    "Input: \"(quantity unit) ingredient description\"\n",
    "Output: \"main ingredient\"\n",
    "\n",
    "Here are some ingredients to simplify:\n",
    "    \"\"\"\n",
    "    \n",
    "    prompt = prompt_base + f'\\nInput: \"{ingredient}\"'\n",
    "    response = get_response(prompt)\n",
    "    return response\n",
    "\n",
    "def post_process_response(response):\n",
    "    if response.startswith(\"Output:\"):\n",
    "        response = response.replace(\"Output:\", \"\").strip()\n",
    "    return response"
   ]
  },
  {
   "cell_type": "code",
   "execution_count": 4,
   "id": "ede72c08",
   "metadata": {},
   "outputs": [
    {
     "name": "stdout",
     "output_type": "stream",
     "text": [
      "Simplified ingredients have been processed and saved.\n"
     ]
    }
   ],
   "source": [
    "if __name__ == \"__main__\":\n",
    "    # Load dataset from JSON file\n",
    "    with open('../data/Recipe-Ingredients-Dataset/sample.json', 'r') as file:\n",
    "        data = json.load(file)\n",
    "\n",
    "    # Iterate through the dataset and simplify ingredients\n",
    "    for entry in data:\n",
    "        simplified_ingredients = [post_process_response(simplify_ingredient(ingredient)) for ingredient in entry['ingredients']]\n",
    "        entry['simplified_ingredients'] = simplified_ingredients\n",
    "\n",
    "    # Save the updated dataset to a new JSON file\n",
    "    with open('../data/simplified_ingredients_train.json', 'w') as file:\n",
    "        json.dump(data, file, indent=4)\n",
    "\n",
    "    print(\"Simplified ingredients have been processed and saved.\")"
   ]
  },
  {
   "cell_type": "code",
   "execution_count": 5,
   "id": "06eb3b41",
   "metadata": {},
   "outputs": [],
   "source": [
    "# Load json file\n",
    "def load_json(file_path):\n",
    "    return pd.read_json(file_path)\n",
    "\n",
    "# Load data\n",
    "data = load_json('../data/simplified_ingredients_train.json')\n",
    "\n",
    "# Load JSON data\n",
    "cuisine_df = pd.json_normalize(data.to_dict(orient='records'))"
   ]
  },
  {
   "cell_type": "code",
   "execution_count": 9,
   "id": "6a16e300",
   "metadata": {},
   "outputs": [
    {
     "data": {
      "text/html": [
       "<div>\n",
       "<style scoped>\n",
       "    .dataframe tbody tr th:only-of-type {\n",
       "        vertical-align: middle;\n",
       "    }\n",
       "\n",
       "    .dataframe tbody tr th {\n",
       "        vertical-align: top;\n",
       "    }\n",
       "\n",
       "    .dataframe thead th {\n",
       "        text-align: right;\n",
       "    }\n",
       "</style>\n",
       "<table border=\"1\" class=\"dataframe\">\n",
       "  <thead>\n",
       "    <tr style=\"text-align: right;\">\n",
       "      <th></th>\n",
       "      <th>id</th>\n",
       "      <th>cuisine</th>\n",
       "      <th>ingredients</th>\n",
       "      <th>simplified_ingredients</th>\n",
       "    </tr>\n",
       "  </thead>\n",
       "  <tbody>\n",
       "    <tr>\n",
       "      <th>0</th>\n",
       "      <td>10259</td>\n",
       "      <td>greek</td>\n",
       "      <td>[romaine lettuce, black olives, grape tomatoes...</td>\n",
       "      <td>[lettuce, olives, tomatoes, garlic, pepper, on...</td>\n",
       "    </tr>\n",
       "    <tr>\n",
       "      <th>1</th>\n",
       "      <td>25693</td>\n",
       "      <td>southern_us</td>\n",
       "      <td>[plain flour, ground pepper, salt, tomatoes, g...</td>\n",
       "      <td>[flour, pepper, salt, tomatoes, black pepper, ...</td>\n",
       "    </tr>\n",
       "    <tr>\n",
       "      <th>2</th>\n",
       "      <td>20130</td>\n",
       "      <td>filipino</td>\n",
       "      <td>[eggs, pepper, salt, mayonaise, cooking oil, g...</td>\n",
       "      <td>[eggs, pepper, salt, mayonaise, oil, chilies, ...</td>\n",
       "    </tr>\n",
       "    <tr>\n",
       "      <th>3</th>\n",
       "      <td>22213</td>\n",
       "      <td>indian</td>\n",
       "      <td>[water, vegetable oil, wheat, salt]</td>\n",
       "      <td>[water, oil, wheat, salt]</td>\n",
       "    </tr>\n",
       "    <tr>\n",
       "      <th>4</th>\n",
       "      <td>13162</td>\n",
       "      <td>indian</td>\n",
       "      <td>[black pepper, shallots, cornflour, cayenne pe...</td>\n",
       "      <td>[black pepper, shallots, cornflour, pepper, on...</td>\n",
       "    </tr>\n",
       "  </tbody>\n",
       "</table>\n",
       "</div>"
      ],
      "text/plain": [
       "      id      cuisine                                        ingredients  \\\n",
       "0  10259        greek  [romaine lettuce, black olives, grape tomatoes...   \n",
       "1  25693  southern_us  [plain flour, ground pepper, salt, tomatoes, g...   \n",
       "2  20130     filipino  [eggs, pepper, salt, mayonaise, cooking oil, g...   \n",
       "3  22213       indian                [water, vegetable oil, wheat, salt]   \n",
       "4  13162       indian  [black pepper, shallots, cornflour, cayenne pe...   \n",
       "\n",
       "                              simplified_ingredients  \n",
       "0  [lettuce, olives, tomatoes, garlic, pepper, on...  \n",
       "1  [flour, pepper, salt, tomatoes, black pepper, ...  \n",
       "2  [eggs, pepper, salt, mayonaise, oil, chilies, ...  \n",
       "3                          [water, oil, wheat, salt]  \n",
       "4  [black pepper, shallots, cornflour, pepper, on...  "
      ]
     },
     "execution_count": 9,
     "metadata": {},
     "output_type": "execute_result"
    }
   ],
   "source": [
    "cuisine_df.head()"
   ]
  }
 ],
 "metadata": {
  "kernelspec": {
   "display_name": "Python 3 (ipykernel)",
   "language": "python",
   "name": "python3"
  },
  "language_info": {
   "codemirror_mode": {
    "name": "ipython",
    "version": 3
   },
   "file_extension": ".py",
   "mimetype": "text/x-python",
   "name": "python",
   "nbconvert_exporter": "python",
   "pygments_lexer": "ipython3",
   "version": "3.11.5"
  }
 },
 "nbformat": 4,
 "nbformat_minor": 5
}
