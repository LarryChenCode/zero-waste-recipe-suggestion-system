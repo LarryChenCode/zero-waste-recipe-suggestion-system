{
 "cells": [
  {
   "cell_type": "markdown",
   "metadata": {},
   "source": [
    "## Import libraries"
   ]
  },
  {
   "cell_type": "code",
   "execution_count": 1,
   "metadata": {},
   "outputs": [],
   "source": [
    "import pandas as pd\n",
    "import numpy as np\n",
    "import joblib\n",
    "import ast\n",
    "from sklearn.model_selection import train_test_split, GridSearchCV, cross_val_score\n",
    "from sklearn.feature_extraction.text import TfidfVectorizer\n",
    "from sklearn.preprocessing import MultiLabelBinarizer\n",
    "from itertools import chain\n",
    "from sklearn.svm import LinearSVC\n",
    "from sklearn.svm import SVC\n",
    "from sklearn.metrics import classification_report\n",
    "from sklearn.metrics import accuracy_score\n",
    "from sklearn.metrics import mean_squared_error\n",
    "\n",
    "# ingnore future warnings\n",
    "import warnings\n",
    "warnings.filterwarnings('ignore')"
   ]
  },
  {
   "cell_type": "markdown",
   "metadata": {},
   "source": [
    "## Load data"
   ]
  },
  {
   "cell_type": "code",
   "execution_count": 2,
   "metadata": {},
   "outputs": [
    {
     "data": {
      "text/html": [
       "<div>\n",
       "<style scoped>\n",
       "    .dataframe tbody tr th:only-of-type {\n",
       "        vertical-align: middle;\n",
       "    }\n",
       "\n",
       "    .dataframe tbody tr th {\n",
       "        vertical-align: top;\n",
       "    }\n",
       "\n",
       "    .dataframe thead th {\n",
       "        text-align: right;\n",
       "    }\n",
       "</style>\n",
       "<table border=\"1\" class=\"dataframe\">\n",
       "  <thead>\n",
       "    <tr style=\"text-align: right;\">\n",
       "      <th></th>\n",
       "      <th>id</th>\n",
       "      <th>name</th>\n",
       "      <th>Cuisine_Tags_str</th>\n",
       "      <th>replaced_ingredients_str</th>\n",
       "      <th>steps_str</th>\n",
       "      <th>tags_str</th>\n",
       "      <th>minutes</th>\n",
       "      <th>contributor_id</th>\n",
       "      <th>submitted</th>\n",
       "      <th>tags</th>\n",
       "      <th>nutrition</th>\n",
       "      <th>n_steps</th>\n",
       "      <th>steps</th>\n",
       "      <th>description</th>\n",
       "      <th>ingredients</th>\n",
       "      <th>n_ingredients</th>\n",
       "      <th>Cuisine_Tags</th>\n",
       "      <th>replaced_ingredients</th>\n",
       "    </tr>\n",
       "  </thead>\n",
       "  <tbody>\n",
       "    <tr>\n",
       "      <th>0</th>\n",
       "      <td>137739</td>\n",
       "      <td>arriba   baked winter squash mexican style</td>\n",
       "      <td>mexican</td>\n",
       "      <td>winter squash mexican seasoning mixed spice ho...</td>\n",
       "      <td>make a choice and proceed with recipe dependin...</td>\n",
       "      <td>60-minutes-or-less time-to-make course main-in...</td>\n",
       "      <td>55</td>\n",
       "      <td>47892</td>\n",
       "      <td>2005-09-16</td>\n",
       "      <td>['60-minutes-or-less', 'time-to-make', 'course...</td>\n",
       "      <td>[51.5, 0.0, 13.0, 0.0, 2.0, 0.0, 4.0]</td>\n",
       "      <td>11</td>\n",
       "      <td>['make a choice and proceed with recipe', 'dep...</td>\n",
       "      <td>autumn is my favorite time of year to cook! th...</td>\n",
       "      <td>['winter squash', 'mexican seasoning', 'mixed ...</td>\n",
       "      <td>7</td>\n",
       "      <td>['mexican']</td>\n",
       "      <td>['winter squash', 'mexican seasoning', 'mixed ...</td>\n",
       "    </tr>\n",
       "    <tr>\n",
       "      <th>1</th>\n",
       "      <td>31490</td>\n",
       "      <td>a bit different  breakfast pizza</td>\n",
       "      <td>northeastern-united-states</td>\n",
       "      <td>pizza crust sausage egg milk salt and pepper c...</td>\n",
       "      <td>preheat oven to 425 degrees f press dough into...</td>\n",
       "      <td>30-minutes-or-less time-to-make course main-in...</td>\n",
       "      <td>30</td>\n",
       "      <td>26278</td>\n",
       "      <td>2002-06-17</td>\n",
       "      <td>['30-minutes-or-less', 'time-to-make', 'course...</td>\n",
       "      <td>[173.4, 18.0, 0.0, 17.0, 22.0, 35.0, 1.0]</td>\n",
       "      <td>9</td>\n",
       "      <td>['preheat oven to 425 degrees f', 'press dough...</td>\n",
       "      <td>this recipe calls for the crust to be prebaked...</td>\n",
       "      <td>['prepared pizza crust', 'sausage patty', 'egg...</td>\n",
       "      <td>6</td>\n",
       "      <td>['northeastern-united-states']</td>\n",
       "      <td>['pizza crust', 'sausage', 'egg', 'milk', 'sal...</td>\n",
       "    </tr>\n",
       "    <tr>\n",
       "      <th>2</th>\n",
       "      <td>44061</td>\n",
       "      <td>amish  tomato ketchup  for canning</td>\n",
       "      <td>northeastern-united-states</td>\n",
       "      <td>tomato juice apple cider vinegar sugar salt pe...</td>\n",
       "      <td>mix all ingredients&amp; boil for 2 1 / 2 hours , ...</td>\n",
       "      <td>weeknight time-to-make course main-ingredient ...</td>\n",
       "      <td>190</td>\n",
       "      <td>41706</td>\n",
       "      <td>2002-10-25</td>\n",
       "      <td>['weeknight', 'time-to-make', 'course', 'main-...</td>\n",
       "      <td>[352.9, 1.0, 337.0, 23.0, 3.0, 0.0, 28.0]</td>\n",
       "      <td>5</td>\n",
       "      <td>['mix all ingredients&amp; boil for 2 1 / 2 hours ...</td>\n",
       "      <td>my dh's amish mother raised him on this recipe...</td>\n",
       "      <td>['tomato juice', 'apple cider vinegar', 'sugar...</td>\n",
       "      <td>8</td>\n",
       "      <td>['northeastern-united-states']</td>\n",
       "      <td>['tomato juice', 'apple cider vinegar', 'sugar...</td>\n",
       "    </tr>\n",
       "    <tr>\n",
       "      <th>3</th>\n",
       "      <td>25274</td>\n",
       "      <td>aww  marinated olives</td>\n",
       "      <td>canadian</td>\n",
       "      <td>fennel seed green olive ripe olive garlic pepp...</td>\n",
       "      <td>toast the fennel seeds and lightly crush them ...</td>\n",
       "      <td>15-minutes-or-less time-to-make course main-in...</td>\n",
       "      <td>15</td>\n",
       "      <td>21730</td>\n",
       "      <td>2002-04-14</td>\n",
       "      <td>['15-minutes-or-less', 'time-to-make', 'course...</td>\n",
       "      <td>[380.7, 53.0, 7.0, 24.0, 6.0, 24.0, 6.0]</td>\n",
       "      <td>4</td>\n",
       "      <td>['toast the fennel seeds and lightly crush the...</td>\n",
       "      <td>my italian mil was thoroughly impressed by my ...</td>\n",
       "      <td>['fennel seed', 'green olive', 'ripe olive', '...</td>\n",
       "      <td>9</td>\n",
       "      <td>['canadian']</td>\n",
       "      <td>['fennel seed', 'green olive', 'ripe olive', '...</td>\n",
       "    </tr>\n",
       "    <tr>\n",
       "      <th>4</th>\n",
       "      <td>43026</td>\n",
       "      <td>chile rellenos</td>\n",
       "      <td>southwestern-united-states</td>\n",
       "      <td>egg roll wrap whole green chili cheese cornsta...</td>\n",
       "      <td>drain green chiles sprinkle cornstarch on shee...</td>\n",
       "      <td>60-minutes-or-less time-to-make course main-in...</td>\n",
       "      <td>45</td>\n",
       "      <td>52268</td>\n",
       "      <td>2002-10-14</td>\n",
       "      <td>['60-minutes-or-less', 'time-to-make', 'course...</td>\n",
       "      <td>[94.0, 10.0, 0.0, 11.0, 11.0, 21.0, 0.0]</td>\n",
       "      <td>9</td>\n",
       "      <td>['drain green chiles', 'sprinkle cornstarch on...</td>\n",
       "      <td>a favorite from a local restaurant no longer i...</td>\n",
       "      <td>['egg roll wrap', 'whole green chili', 'cheese...</td>\n",
       "      <td>5</td>\n",
       "      <td>['southwestern-united-states']</td>\n",
       "      <td>['egg roll wrap', 'whole green chili', 'cheese...</td>\n",
       "    </tr>\n",
       "  </tbody>\n",
       "</table>\n",
       "</div>"
      ],
      "text/plain": [
       "       id                                        name  \\\n",
       "0  137739  arriba   baked winter squash mexican style   \n",
       "1   31490            a bit different  breakfast pizza   \n",
       "2   44061          amish  tomato ketchup  for canning   \n",
       "3   25274                       aww  marinated olives   \n",
       "4   43026                              chile rellenos   \n",
       "\n",
       "             Cuisine_Tags_str  \\\n",
       "0                     mexican   \n",
       "1  northeastern-united-states   \n",
       "2  northeastern-united-states   \n",
       "3                    canadian   \n",
       "4  southwestern-united-states   \n",
       "\n",
       "                            replaced_ingredients_str  \\\n",
       "0  winter squash mexican seasoning mixed spice ho...   \n",
       "1  pizza crust sausage egg milk salt and pepper c...   \n",
       "2  tomato juice apple cider vinegar sugar salt pe...   \n",
       "3  fennel seed green olive ripe olive garlic pepp...   \n",
       "4  egg roll wrap whole green chili cheese cornsta...   \n",
       "\n",
       "                                           steps_str  \\\n",
       "0  make a choice and proceed with recipe dependin...   \n",
       "1  preheat oven to 425 degrees f press dough into...   \n",
       "2  mix all ingredients& boil for 2 1 / 2 hours , ...   \n",
       "3  toast the fennel seeds and lightly crush them ...   \n",
       "4  drain green chiles sprinkle cornstarch on shee...   \n",
       "\n",
       "                                            tags_str  minutes  contributor_id  \\\n",
       "0  60-minutes-or-less time-to-make course main-in...       55           47892   \n",
       "1  30-minutes-or-less time-to-make course main-in...       30           26278   \n",
       "2  weeknight time-to-make course main-ingredient ...      190           41706   \n",
       "3  15-minutes-or-less time-to-make course main-in...       15           21730   \n",
       "4  60-minutes-or-less time-to-make course main-in...       45           52268   \n",
       "\n",
       "    submitted                                               tags  \\\n",
       "0  2005-09-16  ['60-minutes-or-less', 'time-to-make', 'course...   \n",
       "1  2002-06-17  ['30-minutes-or-less', 'time-to-make', 'course...   \n",
       "2  2002-10-25  ['weeknight', 'time-to-make', 'course', 'main-...   \n",
       "3  2002-04-14  ['15-minutes-or-less', 'time-to-make', 'course...   \n",
       "4  2002-10-14  ['60-minutes-or-less', 'time-to-make', 'course...   \n",
       "\n",
       "                                   nutrition  n_steps  \\\n",
       "0      [51.5, 0.0, 13.0, 0.0, 2.0, 0.0, 4.0]       11   \n",
       "1  [173.4, 18.0, 0.0, 17.0, 22.0, 35.0, 1.0]        9   \n",
       "2  [352.9, 1.0, 337.0, 23.0, 3.0, 0.0, 28.0]        5   \n",
       "3   [380.7, 53.0, 7.0, 24.0, 6.0, 24.0, 6.0]        4   \n",
       "4   [94.0, 10.0, 0.0, 11.0, 11.0, 21.0, 0.0]        9   \n",
       "\n",
       "                                               steps  \\\n",
       "0  ['make a choice and proceed with recipe', 'dep...   \n",
       "1  ['preheat oven to 425 degrees f', 'press dough...   \n",
       "2  ['mix all ingredients& boil for 2 1 / 2 hours ...   \n",
       "3  ['toast the fennel seeds and lightly crush the...   \n",
       "4  ['drain green chiles', 'sprinkle cornstarch on...   \n",
       "\n",
       "                                         description  \\\n",
       "0  autumn is my favorite time of year to cook! th...   \n",
       "1  this recipe calls for the crust to be prebaked...   \n",
       "2  my dh's amish mother raised him on this recipe...   \n",
       "3  my italian mil was thoroughly impressed by my ...   \n",
       "4  a favorite from a local restaurant no longer i...   \n",
       "\n",
       "                                         ingredients  n_ingredients  \\\n",
       "0  ['winter squash', 'mexican seasoning', 'mixed ...              7   \n",
       "1  ['prepared pizza crust', 'sausage patty', 'egg...              6   \n",
       "2  ['tomato juice', 'apple cider vinegar', 'sugar...              8   \n",
       "3  ['fennel seed', 'green olive', 'ripe olive', '...              9   \n",
       "4  ['egg roll wrap', 'whole green chili', 'cheese...              5   \n",
       "\n",
       "                     Cuisine_Tags  \\\n",
       "0                     ['mexican']   \n",
       "1  ['northeastern-united-states']   \n",
       "2  ['northeastern-united-states']   \n",
       "3                    ['canadian']   \n",
       "4  ['southwestern-united-states']   \n",
       "\n",
       "                                replaced_ingredients  \n",
       "0  ['winter squash', 'mexican seasoning', 'mixed ...  \n",
       "1  ['pizza crust', 'sausage', 'egg', 'milk', 'sal...  \n",
       "2  ['tomato juice', 'apple cider vinegar', 'sugar...  \n",
       "3  ['fennel seed', 'green olive', 'ripe olive', '...  \n",
       "4  ['egg roll wrap', 'whole green chili', 'cheese...  "
      ]
     },
     "execution_count": 2,
     "metadata": {},
     "output_type": "execute_result"
    }
   ],
   "source": [
    "# Load data\n",
    "cuisine_df = pd.read_csv('../data/RAW_recipes_cleaned.csv')\n",
    "cuisine_df.head()"
   ]
  },
  {
   "cell_type": "markdown",
   "metadata": {},
   "source": [
    "## Data preprocessing"
   ]
  },
  {
   "cell_type": "code",
   "execution_count": 5,
   "metadata": {},
   "outputs": [],
   "source": [
    "# Convert text data to TF-IDF features\n",
    "vectorizer = TfidfVectorizer()\n",
    "X = vectorizer.fit_transform(cuisine_df['replaced_ingredients_str'])\n",
    "y = cuisine_df['Cuisine_Tags_str']"
   ]
  },
  {
   "cell_type": "code",
   "execution_count": 6,
   "metadata": {},
   "outputs": [
    {
     "name": "stdout",
     "output_type": "stream",
     "text": [
      "TF-IDF vectorizer saved to ../model/tfidf_vectorizer_0529.sav\n"
     ]
    }
   ],
   "source": [
    "# Save the TF-IDF Vectorizer\n",
    "vectorizer_joblib_file = '../model/tfidf_vectorizer_0529.sav'\n",
    "joblib.dump(vectorizer, vectorizer_joblib_file)\n",
    "print(f\"TF-IDF vectorizer saved to {vectorizer_joblib_file}\")"
   ]
  },
  {
   "cell_type": "markdown",
   "metadata": {},
   "source": [
    "## Model Training"
   ]
  },
  {
   "cell_type": "code",
   "execution_count": 8,
   "metadata": {},
   "outputs": [],
   "source": [
    "# Split data into training and test sets\n",
    "X_train, X_test, y_train, y_test = train_test_split(X, y, test_size=0.2, random_state=42)"
   ]
  },
  {
   "cell_type": "code",
   "execution_count": 9,
   "metadata": {},
   "outputs": [
    {
     "data": {
      "text/html": [
       "<style>#sk-container-id-1 {color: black;background-color: white;}#sk-container-id-1 pre{padding: 0;}#sk-container-id-1 div.sk-toggleable {background-color: white;}#sk-container-id-1 label.sk-toggleable__label {cursor: pointer;display: block;width: 100%;margin-bottom: 0;padding: 0.3em;box-sizing: border-box;text-align: center;}#sk-container-id-1 label.sk-toggleable__label-arrow:before {content: \"▸\";float: left;margin-right: 0.25em;color: #696969;}#sk-container-id-1 label.sk-toggleable__label-arrow:hover:before {color: black;}#sk-container-id-1 div.sk-estimator:hover label.sk-toggleable__label-arrow:before {color: black;}#sk-container-id-1 div.sk-toggleable__content {max-height: 0;max-width: 0;overflow: hidden;text-align: left;background-color: #f0f8ff;}#sk-container-id-1 div.sk-toggleable__content pre {margin: 0.2em;color: black;border-radius: 0.25em;background-color: #f0f8ff;}#sk-container-id-1 input.sk-toggleable__control:checked~div.sk-toggleable__content {max-height: 200px;max-width: 100%;overflow: auto;}#sk-container-id-1 input.sk-toggleable__control:checked~label.sk-toggleable__label-arrow:before {content: \"▾\";}#sk-container-id-1 div.sk-estimator input.sk-toggleable__control:checked~label.sk-toggleable__label {background-color: #d4ebff;}#sk-container-id-1 div.sk-label input.sk-toggleable__control:checked~label.sk-toggleable__label {background-color: #d4ebff;}#sk-container-id-1 input.sk-hidden--visually {border: 0;clip: rect(1px 1px 1px 1px);clip: rect(1px, 1px, 1px, 1px);height: 1px;margin: -1px;overflow: hidden;padding: 0;position: absolute;width: 1px;}#sk-container-id-1 div.sk-estimator {font-family: monospace;background-color: #f0f8ff;border: 1px dotted black;border-radius: 0.25em;box-sizing: border-box;margin-bottom: 0.5em;}#sk-container-id-1 div.sk-estimator:hover {background-color: #d4ebff;}#sk-container-id-1 div.sk-parallel-item::after {content: \"\";width: 100%;border-bottom: 1px solid gray;flex-grow: 1;}#sk-container-id-1 div.sk-label:hover label.sk-toggleable__label {background-color: #d4ebff;}#sk-container-id-1 div.sk-serial::before {content: \"\";position: absolute;border-left: 1px solid gray;box-sizing: border-box;top: 0;bottom: 0;left: 50%;z-index: 0;}#sk-container-id-1 div.sk-serial {display: flex;flex-direction: column;align-items: center;background-color: white;padding-right: 0.2em;padding-left: 0.2em;position: relative;}#sk-container-id-1 div.sk-item {position: relative;z-index: 1;}#sk-container-id-1 div.sk-parallel {display: flex;align-items: stretch;justify-content: center;background-color: white;position: relative;}#sk-container-id-1 div.sk-item::before, #sk-container-id-1 div.sk-parallel-item::before {content: \"\";position: absolute;border-left: 1px solid gray;box-sizing: border-box;top: 0;bottom: 0;left: 50%;z-index: -1;}#sk-container-id-1 div.sk-parallel-item {display: flex;flex-direction: column;z-index: 1;position: relative;background-color: white;}#sk-container-id-1 div.sk-parallel-item:first-child::after {align-self: flex-end;width: 50%;}#sk-container-id-1 div.sk-parallel-item:last-child::after {align-self: flex-start;width: 50%;}#sk-container-id-1 div.sk-parallel-item:only-child::after {width: 0;}#sk-container-id-1 div.sk-dashed-wrapped {border: 1px dashed gray;margin: 0 0.4em 0.5em 0.4em;box-sizing: border-box;padding-bottom: 0.4em;background-color: white;}#sk-container-id-1 div.sk-label label {font-family: monospace;font-weight: bold;display: inline-block;line-height: 1.2em;}#sk-container-id-1 div.sk-label-container {text-align: center;}#sk-container-id-1 div.sk-container {/* jupyter's `normalize.less` sets `[hidden] { display: none; }` but bootstrap.min.css set `[hidden] { display: none !important; }` so we also need the `!important` here to be able to override the default hidden behavior on the sphinx rendered scikit-learn.org. See: https://github.com/scikit-learn/scikit-learn/issues/21755 */display: inline-block !important;position: relative;}#sk-container-id-1 div.sk-text-repr-fallback {display: none;}</style><div id=\"sk-container-id-1\" class=\"sk-top-container\"><div class=\"sk-text-repr-fallback\"><pre>LinearSVC()</pre><b>In a Jupyter environment, please rerun this cell to show the HTML representation or trust the notebook. <br />On GitHub, the HTML representation is unable to render, please try loading this page with nbviewer.org.</b></div><div class=\"sk-container\" hidden><div class=\"sk-item\"><div class=\"sk-estimator sk-toggleable\"><input class=\"sk-toggleable__control sk-hidden--visually\" id=\"sk-estimator-id-1\" type=\"checkbox\" checked><label for=\"sk-estimator-id-1\" class=\"sk-toggleable__label sk-toggleable__label-arrow\">LinearSVC</label><div class=\"sk-toggleable__content\"><pre>LinearSVC()</pre></div></div></div></div></div>"
      ],
      "text/plain": [
       "LinearSVC()"
      ]
     },
     "execution_count": 9,
     "metadata": {},
     "output_type": "execute_result"
    }
   ],
   "source": [
    "# LinearSVC Prediction\n",
    "svc = LinearSVC()\n",
    "svc.fit(X_train, y_train)"
   ]
  },
  {
   "cell_type": "code",
   "execution_count": 10,
   "metadata": {},
   "outputs": [
    {
     "data": {
      "text/plain": [
       "0.5566468253968254"
      ]
     },
     "execution_count": 10,
     "metadata": {},
     "output_type": "execute_result"
    }
   ],
   "source": [
    "svc.score(X_test, y_test)"
   ]
  },
  {
   "cell_type": "code",
   "execution_count": 11,
   "metadata": {},
   "outputs": [],
   "source": [
    "# # Hyperparameter tuning and cross-validation but the result is not better than the above model\n",
    "# # Define parameter grid\n",
    "# param_grid = {\n",
    "#     'C': [0.1, 1, 10, 100],\n",
    "#     'max_iter': [1000, 5000, 10000, 20000]\n",
    "# }\n",
    "\n",
    "# # Perform hyperparameter tuning using GridSearchCV\n",
    "# grid_search = GridSearchCV(LinearSVC(), param_grid, cv=5)\n",
    "# grid_search.fit(X_train, y_train)\n",
    "\n",
    "# # Output best parameters\n",
    "# print(\"Best parameters: \", grid_search.best_params_)\n",
    "\n",
    "# # Use the best model to make predictions\n",
    "# best_model = grid_search.best_estimator_\n",
    "# print(\"Test accuracy: \", best_model.score(X_test, y_test))\n",
    "\n",
    "# # Evaluate the model using cross-validation\n",
    "# cv_scores = cross_val_score(best_model, X, y, cv=5)\n",
    "# print(\"Cross-validation scores: \", cv_scores)\n",
    "# print(\"Mean cross-validation score: \", np.mean(cv_scores))"
   ]
  },
  {
   "cell_type": "code",
   "execution_count": 12,
   "metadata": {},
   "outputs": [
    {
     "name": "stdout",
     "output_type": "stream",
     "text": [
      "Accuracy: 0.5566468253968254\n",
      "Classification Report:\n",
      "                            precision    recall  f1-score   support\n",
      "\n",
      "                australian       0.52      0.50      0.51       452\n",
      "                  austrian       0.00      0.00      0.00        26\n",
      "                   belgian       0.00      0.00      0.00        19\n",
      "                 brazilian       0.41      0.14      0.21        49\n",
      "                  canadian       0.37      0.35      0.36       810\n",
      "                   chilean       0.50      0.06      0.10        18\n",
      "                   chinese       0.61      0.82      0.70       330\n",
      "                 colombian       0.50      0.11      0.18         9\n",
      "                     cuban       0.43      0.13      0.20        46\n",
      "                     czech       0.00      0.00      0.00        18\n",
      "                    danish       0.20      0.05      0.08        43\n",
      "                     dutch       0.33      0.06      0.11        48\n",
      "                  egyptian       0.36      0.16      0.22        31\n",
      "                   english       0.37      0.20      0.26       247\n",
      "                 ethiopian       0.47      0.37      0.41        19\n",
      "                  filipino       0.40      0.22      0.29        45\n",
      "                   finnish       0.00      0.00      0.00        29\n",
      "                    french       0.41      0.41      0.41       374\n",
      "                  georgian       0.00      0.00      0.00         1\n",
      "                    german       0.32      0.35      0.33       224\n",
      "                     greek       0.63      0.73      0.68       413\n",
      "                 hungarian       0.49      0.47      0.48        49\n",
      "                    indian       0.68      0.82      0.75       546\n",
      "                indonesian       0.33      0.15      0.21        40\n",
      "           iranian-persian       0.50      0.34      0.41        32\n",
      "                     iraqi       0.00      0.00      0.00         7\n",
      "                   italian       0.67      0.85      0.75      1383\n",
      "                  japanese       0.79      0.63      0.70       169\n",
      "                    korean       0.70      0.60      0.65        53\n",
      "                   laotian       0.00      0.00      0.00         1\n",
      "                  lebanese       0.34      0.29      0.31        38\n",
      "                    libyan       0.00      0.00      0.00         4\n",
      "                 malaysian       1.00      0.07      0.12        15\n",
      "                   mexican       0.65      0.81      0.72      1151\n",
      "                  moroccan       0.61      0.65      0.63       170\n",
      "               new-zealand       0.36      0.11      0.17        79\n",
      "northeastern-united-states       0.36      0.12      0.18       347\n",
      "                 norwegian       0.10      0.04      0.06        23\n",
      "                 pakistani       0.00      0.00      0.00        16\n",
      "               palestinian       0.00      0.00      0.00        11\n",
      "                  peruvian       0.50      0.12      0.19        17\n",
      "                    polish       0.23      0.13      0.17        54\n",
      "                portuguese       0.55      0.10      0.17        61\n",
      "              puerto-rican       0.43      0.18      0.25        17\n",
      "                   russian       0.31      0.16      0.21        68\n",
      "             saudi-arabian       0.00      0.00      0.00        10\n",
      "                  scottish       0.47      0.31      0.38        80\n",
      "             south-african       0.55      0.24      0.33        50\n",
      "    southern-united-states       0.51      0.72      0.60      1259\n",
      "southwestern-united-states       0.28      0.08      0.12       425\n",
      "                   spanish       0.51      0.38      0.44       181\n",
      "                   swedish       0.20      0.16      0.18        55\n",
      "                     swiss       0.53      0.14      0.22        58\n",
      "                      thai       0.68      0.69      0.68       230\n",
      "                   turkish       0.57      0.11      0.18        38\n",
      "                venezuelan       0.00      0.00      0.00         8\n",
      "                vietnamese       0.56      0.46      0.50        65\n",
      "                     welsh       0.00      0.00      0.00        19\n",
      "\n",
      "                  accuracy                           0.56     10080\n",
      "                 macro avg       0.37      0.25      0.27     10080\n",
      "              weighted avg       0.52      0.56      0.52     10080\n",
      "\n"
     ]
    }
   ],
   "source": [
    "y_pred = svc.predict(X_test)\n",
    "\n",
    "# Evaluate the model\n",
    "print(\"Accuracy:\", accuracy_score(y_test, y_pred))\n",
    "print(\"Classification Report:\")\n",
    "print(classification_report(y_test, y_pred))"
   ]
  },
  {
   "cell_type": "markdown",
   "metadata": {},
   "source": [
    "## Test the model"
   ]
  },
  {
   "cell_type": "code",
   "execution_count": 13,
   "metadata": {},
   "outputs": [
    {
     "name": "stdout",
     "output_type": "stream",
     "text": [
      "['italian']\n",
      "['moroccan']\n"
     ]
    }
   ],
   "source": [
    "# Prediction function\n",
    "def cuisine_recommender(ingredients, model):\n",
    "    store = []\n",
    "    store.append(ingredients)\n",
    "    ingredient_vector = vectorizer.transform(store)\n",
    "    return model.predict(ingredient_vector)\n",
    "\n",
    "# Test the recommendation system\n",
    "print(cuisine_recommender('apple cheese grapes sausage', svc))\n",
    "print(cuisine_recommender('cumin chicken wheat salt', svc))"
   ]
  },
  {
   "cell_type": "markdown",
   "metadata": {},
   "source": [
    "## Save the model"
   ]
  },
  {
   "cell_type": "code",
   "execution_count": 14,
   "metadata": {},
   "outputs": [
    {
     "data": {
      "text/plain": [
       "['../model/classification_model_SVC_0529.sav']"
      ]
     },
     "execution_count": 14,
     "metadata": {},
     "output_type": "execute_result"
    }
   ],
   "source": [
    "model_joblib_file = '../model/classification_model_SVC_0529.sav'\n",
    "joblib.dump(svc, model_joblib_file)"
   ]
  },
  {
   "cell_type": "code",
   "execution_count": 15,
   "metadata": {},
   "outputs": [
    {
     "data": {
      "text/plain": [
       "array(['mexican', 'italian', 'italian', ..., 'greek',\n",
       "       'southern-united-states', 'moroccan'], dtype=object)"
      ]
     },
     "execution_count": 15,
     "metadata": {},
     "output_type": "execute_result"
    }
   ],
   "source": [
    "loaded_model = joblib.load(model_joblib_file)\n",
    "\n",
    "y_preds = loaded_model.predict(X_test)\n",
    "y_preds"
   ]
  },
  {
   "cell_type": "code",
   "execution_count": 16,
   "metadata": {},
   "outputs": [
    {
     "name": "stdout",
     "output_type": "stream",
     "text": [
      "Model Score: 0.5566468253968254\n"
     ]
    }
   ],
   "source": [
    "score = loaded_model.score(X_test, y_test)\n",
    "print(f'Model Score: {score}')"
   ]
  }
 ],
 "metadata": {
  "kernelspec": {
   "display_name": "zero-waste-recipe",
   "language": "python",
   "name": "python3"
  },
  "language_info": {
   "codemirror_mode": {
    "name": "ipython",
    "version": 3
   },
   "file_extension": ".py",
   "mimetype": "text/x-python",
   "name": "python",
   "nbconvert_exporter": "python",
   "pygments_lexer": "ipython3",
   "version": "3.11.5"
  }
 },
 "nbformat": 4,
 "nbformat_minor": 2
}
