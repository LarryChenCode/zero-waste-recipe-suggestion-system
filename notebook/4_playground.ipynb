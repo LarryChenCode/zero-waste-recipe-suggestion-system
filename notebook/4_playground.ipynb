{
 "cells": [
  {
   "cell_type": "markdown",
   "metadata": {},
   "source": [
    "## Import functions"
   ]
  },
  {
   "cell_type": "code",
   "execution_count": 2,
   "metadata": {},
   "outputs": [],
   "source": [
    "# import all functions from functions.py\n",
    "from functions import *"
   ]
  },
  {
   "cell_type": "markdown",
   "metadata": {},
   "source": [
    "## Recipe Recommender"
   ]
  },
  {
   "cell_type": "code",
   "execution_count": 19,
   "metadata": {},
   "outputs": [
    {
     "name": "stdout",
     "output_type": "stream",
     "text": [
      "Ingredients:\n",
      "- heavy whipping cream\n",
      "- basil\n",
      "- parsley\n",
      "- garlic\n",
      "- lemon juice\n",
      "- parmesan-romano cheese mix\n",
      "- parmesan cheese\n",
      "- butter\n",
      "- cajun spice\n",
      "- salt\n",
      "- white pepper\n",
      "- linguine\n",
      "- salmon\n",
      "\n",
      "Recipe:\n",
      "Step 1: for the cream sauce:\n",
      "Step 2: saut minced garlic with butter until garlic is light brown\n",
      "Step 3: add heavy cream\n",
      "Step 4: basil\n",
      "Step 5: lemon juice\n",
      "Step 6: grated cheese blend\n",
      "Step 7: & white pepper\n",
      "Step 8: bring to a boil on medium high heat\n",
      "Step 9: stirring often\n",
      "Step 10: place on low heat after boiling & salt to taste\n",
      "Step 11: for the cajun salmon:\n",
      "Step 12: preheat oven to 375f\n",
      "Step 13: lightly coat salmon with cajun spice\n",
      "Step 14: remember\n",
      "Step 15: the amount of spice will determine the degree of spice & heat\n",
      "Step 16: so cook salmon at 375f for 8-15 minutes depending on desired doneness\n",
      "Step 17: for the presentation:\n",
      "Step 18: toss cooked pasta with the cream sauce\n",
      "Step 19: portion 8 ounces of pasta per serving\n",
      "Step 20: place the cooked salmon filets atop the portions\n",
      "Step 21: garnish with parsley & shredded parmesan cheese\n",
      "Step 22: a slice of garlic toast & a lemon wedge will further complement this dish\n",
      "\n",
      "Recipe ID: 273326\n",
      "Recipe Name: buckley s  cajun salmon pasta\n",
      "Cuisine: southern-united-states\n"
     ]
    }
   ],
   "source": [
    "# Enter the ingredients and their expiration dates in the format ('ingredient', 'YYYY-MM-DD')\n",
    "ingredients = [\n",
    "    ('milk', '2024-06-01'),\n",
    "    ('bread', '2024-05-30'),\n",
    "    ('eggs', '2024-06-05'),\n",
    "    ('mayonnaise', '2024-12-01'),\n",
    "    ('red wine', '2025-12-01'),\n",
    "    ('vinger', '2025-12-01'),\n",
    "    ('salt', '2026-12-01'),\n",
    "    ('chicken breast', '2024-06-12'),\n",
    "    ('pork', '2024-05-12'),\n",
    "    ('black pepper', '2026-12-01'),\n",
    "    ('oil', '2026-12-01'),\n",
    "    ('salmon', '2024-03-12')\n",
    "]\n",
    "\n",
    "matched_recipes_df = main(ingredients)\n",
    "display_recipe(matched_recipes_df, recipe_index=0)  # change recipe_index to see other recipes"
   ]
  },
  {
   "cell_type": "code",
   "execution_count": null,
   "metadata": {},
   "outputs": [],
   "source": []
  }
 ],
 "metadata": {
  "kernelspec": {
   "display_name": "zero-waste-recipe",
   "language": "python",
   "name": "python3"
  },
  "language_info": {
   "codemirror_mode": {
    "name": "ipython",
    "version": 3
   },
   "file_extension": ".py",
   "mimetype": "text/x-python",
   "name": "python",
   "nbconvert_exporter": "python",
   "pygments_lexer": "ipython3",
   "version": "3.11.5"
  }
 },
 "nbformat": 4,
 "nbformat_minor": 2
}
